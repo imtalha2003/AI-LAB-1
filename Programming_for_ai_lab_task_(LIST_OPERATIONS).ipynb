{
  "nbformat": 4,
  "nbformat_minor": 0,
  "metadata": {
    "colab": {
      "provenance": [],
      "authorship_tag": "ABX9TyPX7rILCzwHhSC3NpBadZT0",
      "include_colab_link": true
    },
    "kernelspec": {
      "name": "python3",
      "display_name": "Python 3"
    },
    "language_info": {
      "name": "python"
    }
  },
  "cells": [
    {
      "cell_type": "markdown",
      "metadata": {
        "id": "view-in-github",
        "colab_type": "text"
      },
      "source": [
        "<a href=\"https://colab.research.google.com/github/imtalha2003/AI-LAB-1/blob/main/Programming_for_ai_lab_task_(LIST_OPERATIONS).ipynb\" target=\"_parent\"><img src=\"https://colab.research.google.com/assets/colab-badge.svg\" alt=\"Open In Colab\"/></a>"
      ]
    },
    {
      "cell_type": "markdown",
      "source": [
        "#TAsk 1.\tAccess List Items:\n",
        "•\tCreate a list of fruits.\n",
        "\n",
        "•\tPrint the first and last items of the list."
      ],
      "metadata": {
        "id": "WNozRGzp2MQK"
      }
    },
    {
      "cell_type": "code",
      "execution_count": 20,
      "metadata": {
        "colab": {
          "base_uri": "https://localhost:8080/"
        },
        "id": "42Qf5n6-1RCS",
        "outputId": "056197f3-1009-4a20-da4d-1166a1ba9d68"
      },
      "outputs": [
        {
          "output_type": "stream",
          "name": "stdout",
          "text": [
            "First item: Apple\n",
            "Last item: Kiwi\n",
            "['Banana', 'Orange', 'Grape']\n"
          ]
        }
      ],
      "source": [
        "fruits = [\"Apple\", \"Banana\", \"Orange\", \"Grape\", \"Kiwi\"]\n",
        "print(\"First item:\", fruits[0])\n",
        "print(\"Last item:\", fruits[-1])\n",
        "print(fruits[1:-1])\n",
        "\n"
      ]
    },
    {
      "cell_type": "markdown",
      "source": [
        "#Task 2.\tChange List Items:\n",
        "\n",
        "•\tCreate a list of colors.\n",
        "\n",
        "•\tChange the second item in the list to \"blue\".\n"
      ],
      "metadata": {
        "id": "BxtVmxSD2gfP"
      }
    },
    {
      "cell_type": "code",
      "source": [
        "colors = [\"Red\", \"Green\", \"Yellow\", \"Purple\"]\n",
        "colors[1] = \"Blue\"\n",
        "print(\"Updated colors:\", colors)\n"
      ],
      "metadata": {
        "colab": {
          "base_uri": "https://localhost:8080/"
        },
        "id": "LcM2Q8LC27Fv",
        "outputId": "4c1480e1-b286-4e0e-e8d5-3b5895bb70f7"
      },
      "execution_count": 3,
      "outputs": [
        {
          "output_type": "stream",
          "name": "stdout",
          "text": [
            "Updated colors: ['Red', 'Blue', 'Yellow', 'Purple']\n"
          ]
        }
      ]
    },
    {
      "cell_type": "markdown",
      "source": [
        "#Task 3.\tAdd List Items:\n",
        "•\tCreate a list of numbers.\n",
        "\n",
        "•\tAdd the number 10 at the end of the list.\n"
      ],
      "metadata": {
        "id": "e_szA_t73RLO"
      }
    },
    {
      "cell_type": "code",
      "source": [
        "numbers = [1, 2, 3, 4, 5]\n",
        "numbers.append(10)\n",
        "print(\"Updated numbers:\", numbers)\n",
        "\n"
      ],
      "metadata": {
        "colab": {
          "base_uri": "https://localhost:8080/"
        },
        "id": "hjYfx1v73WmQ",
        "outputId": "bdd362fd-153f-4ca1-a82b-d27c0242cb3f"
      },
      "execution_count": 4,
      "outputs": [
        {
          "output_type": "stream",
          "name": "stdout",
          "text": [
            "Updated numbers: [1, 2, 3, 4, 5, 10]\n"
          ]
        }
      ]
    },
    {
      "cell_type": "markdown",
      "source": [
        "#Task 4.\tRemove List Items:\n",
        "•\tCreate a list of animals.\n",
        "\n",
        "•\tRemove the third item from the list.\n"
      ],
      "metadata": {
        "id": "bG18ZhCh3up5"
      }
    },
    {
      "cell_type": "code",
      "source": [
        "animals = [\"Dog\", \"Cat\", \"Lion\", \"Elephant\"]\n",
        "del animals[2]\n",
        "print(\"Updated animals:\", animals)\n"
      ],
      "metadata": {
        "colab": {
          "base_uri": "https://localhost:8080/"
        },
        "id": "rXPv1kPd32L0",
        "outputId": "12e16277-53c9-4f2d-84aa-6b3fb8261ea0"
      },
      "execution_count": 5,
      "outputs": [
        {
          "output_type": "stream",
          "name": "stdout",
          "text": [
            "Updated animals: ['Dog', 'Cat', 'Elephant']\n"
          ]
        }
      ]
    },
    {
      "cell_type": "markdown",
      "source": [
        "#TAsk 5.\tLoop Lists:\n",
        "•\tCreate a list of cities.\n",
        "\n",
        "•\tLoop through the list and print each city.\n"
      ],
      "metadata": {
        "id": "HzucDdP94KYK"
      }
    },
    {
      "cell_type": "code",
      "source": [
        "cities = [\"New York\", \"London\", \"Paris\", \"Tokyo\"]\n",
        "for city in cities:\n",
        "    print(city)\n"
      ],
      "metadata": {
        "colab": {
          "base_uri": "https://localhost:8080/"
        },
        "id": "BJJHXvns4UTQ",
        "outputId": "ae391080-9628-4f1e-9cdb-93fce5b3f2c6"
      },
      "execution_count": 6,
      "outputs": [
        {
          "output_type": "stream",
          "name": "stdout",
          "text": [
            "New York\n",
            "London\n",
            "Paris\n",
            "Tokyo\n"
          ]
        }
      ]
    },
    {
      "cell_type": "markdown",
      "source": [
        "#Task 6.\tList Comprehension:\n",
        "•\tCreate a list of numbers from 1 to 10.\n",
        "\n",
        "•\tUse list comprehension to create a new list containing the square of each number.\n",
        "\n"
      ],
      "metadata": {
        "id": "O6wVfTKi4eGx"
      }
    },
    {
      "cell_type": "code",
      "source": [
        "numbers = [i for i in range(1, 11)]\n",
        "squares = [num ** 2 for num in numbers]\n",
        "print(\"Squared numbers:\", squares)\n"
      ],
      "metadata": {
        "colab": {
          "base_uri": "https://localhost:8080/"
        },
        "id": "AlJNpIIb4w9q",
        "outputId": "911cad1a-aac2-496c-d435-ed5712b9434b"
      },
      "execution_count": 7,
      "outputs": [
        {
          "output_type": "stream",
          "name": "stdout",
          "text": [
            "Squared numbers: [1, 4, 9, 16, 25, 36, 49, 64, 81, 100]\n"
          ]
        }
      ]
    },
    {
      "cell_type": "markdown",
      "source": [
        "#TAsk 7.\tSort Lists:\n",
        "•\tCreate a list of names.\n",
        "\n",
        "•\tSort the list alphabetically.\n"
      ],
      "metadata": {
        "id": "2jZ1dxSY5BFP"
      }
    },
    {
      "cell_type": "code",
      "source": [
        "names = [\"Talha\", \"Ali\", \"Muzammil\", \"Rafay\"]\n",
        "names.sort()\n",
        "print(\"Sorted names:\", names)\n"
      ],
      "metadata": {
        "colab": {
          "base_uri": "https://localhost:8080/"
        },
        "id": "3O5kft-X5GRu",
        "outputId": "3ddf23e0-b9ef-4f45-9136-432dfcb605f3"
      },
      "execution_count": 8,
      "outputs": [
        {
          "output_type": "stream",
          "name": "stdout",
          "text": [
            "Sorted names: ['Ali', 'Muzammil', 'Rafay', 'Talha']\n"
          ]
        }
      ]
    },
    {
      "cell_type": "markdown",
      "source": [
        "#Task 8.\tCopy Lists:\n",
        "•\tCreate a list of fruits.\n",
        "\n",
        "•\tCopy the list into a new list.\n"
      ],
      "metadata": {
        "id": "LO1swaT05WF_"
      }
    },
    {
      "cell_type": "code",
      "source": [
        "fruits = [\"Apple\", \"Banana\", \"Orange\"]\n",
        "fruits_copy = fruits.copy()\n",
        "print(\"Copied list:\", fruits_copy)\n",
        "print(\"Original list:\",fruits)"
      ],
      "metadata": {
        "colab": {
          "base_uri": "https://localhost:8080/"
        },
        "id": "nOciH0au5kKa",
        "outputId": "0627ec94-7b92-413a-9070-47a9fe2f09c3"
      },
      "execution_count": 10,
      "outputs": [
        {
          "output_type": "stream",
          "name": "stdout",
          "text": [
            "Copied list: ['Apple', 'Banana', 'Orange']\n",
            "Original list: ['Apple', 'Banana', 'Orange']\n"
          ]
        }
      ]
    },
    {
      "cell_type": "markdown",
      "source": [
        "#Task 9.\tJoin Lists:\n",
        "•\tCreate two lists of numbers.\n",
        "\n",
        "•\tJoin the two lists into a single list.\n"
      ],
      "metadata": {
        "id": "f4ZtRyEd55lf"
      }
    },
    {
      "cell_type": "code",
      "source": [
        "list1 = [1, 2, 3]\n",
        "list2 = [4, 5, 6]\n",
        "combined_list = list1 + list2\n",
        "print(\"Combined list:\", combined_list)\n"
      ],
      "metadata": {
        "colab": {
          "base_uri": "https://localhost:8080/"
        },
        "id": "4wHgOpEE6AHC",
        "outputId": "9783ccfa-810b-4714-85ae-70c6a3ac058a"
      },
      "execution_count": 11,
      "outputs": [
        {
          "output_type": "stream",
          "name": "stdout",
          "text": [
            "Combined list: [1, 2, 3, 4, 5, 6]\n"
          ]
        }
      ]
    },
    {
      "cell_type": "markdown",
      "source": [
        "# Task 10.\tList Methods:\n",
        "•\tCreate a list of fruits.\n",
        "\n",
        "•\tUse the append() method to add a new fruit to the list.\n",
        "\n",
        "•\tUse the pop() method to remove the last fruit from the list.\n"
      ],
      "metadata": {
        "id": "vskBFrXO6Hfe"
      }
    },
    {
      "cell_type": "code",
      "source": [
        "fruits = [\"Apple\", \"Banana\", \"Orange\"]\n",
        "fruits.append(\"Grape\")\n",
        "print(\"Updated fruits:\", fruits)\n",
        "fruits.pop()\n",
        "print(\"After popping:\", fruits)\n",
        "\n"
      ],
      "metadata": {
        "colab": {
          "base_uri": "https://localhost:8080/"
        },
        "id": "opKC6FYv6S49",
        "outputId": "3c2b6d34-0bd2-4ba0-aa9b-d1a97598bce9"
      },
      "execution_count": 13,
      "outputs": [
        {
          "output_type": "stream",
          "name": "stdout",
          "text": [
            "Updated fruits: ['Apple', 'Banana', 'Orange', 'Grape']\n",
            "After popping: ['Apple', 'Banana', 'Orange']\n"
          ]
        }
      ]
    },
    {
      "cell_type": "markdown",
      "source": [
        "# TAsk 11.\tCombining Lists and List Comprehension:\n",
        "\n",
        "•\tCreate two lists, one containing numbers from 1 to 5 and another containing numbers from 6 to 10.\n",
        "\n",
        "•\tUse list comprehension to create a new list that contains the sum of corresponding elements from the two lists.\n"
      ],
      "metadata": {
        "id": "VEjZPc6G6rnz"
      }
    },
    {
      "cell_type": "code",
      "source": [
        "list1 = [1, 2, 3, 4, 5]\n",
        "list2 = [6, 7, 8, 9, 10]\n",
        "sum_list = [x + y for x, y in zip(list1, list2)]\n",
        "print(\"Sum list:\", sum_list)\n"
      ],
      "metadata": {
        "colab": {
          "base_uri": "https://localhost:8080/"
        },
        "id": "etMLYlsu7JJ5",
        "outputId": "fc2319d6-520d-4de8-a9d6-981c583e8491"
      },
      "execution_count": 14,
      "outputs": [
        {
          "output_type": "stream",
          "name": "stdout",
          "text": [
            "Sum list: [7, 9, 11, 13, 15]\n"
          ]
        }
      ]
    },
    {
      "cell_type": "markdown",
      "source": [
        "#Task 12.\tFiltering and Sorting:\n",
        "Create a list of numbers.\n",
        "\n",
        "•\tUse list comprehension to create a new list containing only the even numbers from the original list.\n",
        "\n",
        "•\tSort the new list in descending order.\n",
        "\n"
      ],
      "metadata": {
        "id": "qntccACj7n8H"
      }
    },
    {
      "cell_type": "code",
      "source": [
        "numbers = [3, 6, 2, 8, 5, 9, 4, 7, 10, 12, 14, 15]\n",
        "even_numbers = [num for num in numbers if num % 2 == 0]\n",
        "even_numbers.sort(reverse=True)\n",
        "print(\"Sorted even numbers:\", even_numbers)\n",
        "\n"
      ],
      "metadata": {
        "colab": {
          "base_uri": "https://localhost:8080/"
        },
        "id": "bTMNd7PG76CG",
        "outputId": "5f9c8784-929e-44c1-db9a-08b88f8115ce"
      },
      "execution_count": 15,
      "outputs": [
        {
          "output_type": "stream",
          "name": "stdout",
          "text": [
            "Sorted even numbers: [14, 12, 10, 8, 6, 4, 2]\n"
          ]
        }
      ]
    },
    {
      "cell_type": "markdown",
      "source": [
        "#13.\tList Slicing and Reversing:\n",
        "•\tCreate a list of numbers from 1 to 10.\n",
        "\n",
        "•\tUse list slicing to create a new list containing only the even numbers from the original list, in reverse order.\n",
        "\n"
      ],
      "metadata": {
        "id": "cYZvMlwNLe5_"
      }
    },
    {
      "cell_type": "code",
      "source": [
        "numbers = list(range(1, 11))\n",
        "even_reverse = numbers[-2::-2]\n",
        "print(\"Even numbers in reverse:\", even_reverse)\n",
        "\n",
        "\n"
      ],
      "metadata": {
        "colab": {
          "base_uri": "https://localhost:8080/"
        },
        "id": "5Onz3eu9Lrl8",
        "outputId": "b13037f4-10d6-4da1-d402-8006c8c6d502"
      },
      "execution_count": 27,
      "outputs": [
        {
          "output_type": "stream",
          "name": "stdout",
          "text": [
            "Even numbers in reverse: [9, 7, 5, 3, 1]\n"
          ]
        }
      ]
    },
    {
      "cell_type": "markdown",
      "source": [
        "#14.\tCombining Lists and List Methods:\n",
        "•\tCreate two lists, one containing even numbers and another containing odd numbers.\n",
        "\n",
        "•\tUse list methods to combine the two lists into a single list, alternating between even and odd numbers.\n"
      ],
      "metadata": {
        "id": "SxsQwAV4L4US"
      }
    },
    {
      "cell_type": "markdown",
      "source": [],
      "metadata": {
        "id": "fMep_hk4Lq94"
      }
    },
    {
      "cell_type": "code",
      "source": [
        "even_numbers = [2, 4, 6, 8, 10]\n",
        "odd_numbers = [1, 3, 5, 7, 9]\n",
        "combined_list = []\n",
        "for even, odd in zip(even_numbers, odd_numbers):\n",
        "    combined_list.append(even)\n",
        "    combined_list.append(odd)\n",
        "print(\"Combined list:\", combined_list)\n",
        "\n"
      ],
      "metadata": {
        "colab": {
          "base_uri": "https://localhost:8080/"
        },
        "id": "ZE4KaehxL-vF",
        "outputId": "5a142de7-2317-4828-d9cb-841f74862d71"
      },
      "execution_count": 24,
      "outputs": [
        {
          "output_type": "stream",
          "name": "stdout",
          "text": [
            "Combined list: [2, 1, 4, 3, 6, 5, 8, 7, 10, 9]\n"
          ]
        }
      ]
    },
    {
      "cell_type": "code",
      "source": [],
      "metadata": {
        "id": "f1Yk--QOLejG"
      },
      "execution_count": null,
      "outputs": []
    },
    {
      "cell_type": "markdown",
      "source": [],
      "metadata": {
        "id": "kP15PtK95hc5"
      }
    },
    {
      "cell_type": "markdown",
      "source": [],
      "metadata": {
        "id": "-Istzrjh2K18"
      }
    }
  ]
}